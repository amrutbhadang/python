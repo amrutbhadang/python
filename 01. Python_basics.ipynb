{
 "cells": [
  {
   "cell_type": "markdown",
   "id": "8bc401b3-10d3-4d61-a94f-fd4337b998db",
   "metadata": {},
   "source": [
    "## Datatypes"
   ]
  },
  {
   "cell_type": "code",
   "execution_count": 2,
   "id": "3901aeb8-51ca-47b9-9235-f7bdb7be2ad5",
   "metadata": {},
   "outputs": [
    {
     "name": "stdout",
     "output_type": "stream",
     "text": [
      "hello\n"
     ]
    }
   ],
   "source": [
    "print(\"hello\")"
   ]
  },
  {
   "cell_type": "raw",
   "id": "9ff38a25-e24d-442c-87e9-f6e5a7dc4162",
   "metadata": {},
   "source": [
    "str     = \" asdf@#2423    \", '[873] '\n",
    "int     = 0-9\n",
    "float   = 4.5, 0.334\n",
    "bool    = True / False\n",
    "complx  = 34 + 67j\n",
    "tuple   = ( )\n",
    "list    = [23,4,4,64,6,4,3,4 ]\n",
    "set     = { 23,4,4,64,6,4,3,4 }\n",
    "Dict    = {1: \"jan\", 2: \"feb\" }"
   ]
  },
  {
   "cell_type": "markdown",
   "id": "9602a5b9-d491-4049-99c2-67c74f498df5",
   "metadata": {},
   "source": [
    "### Arithmetic Operators "
   ]
  },
  {
   "cell_type": "raw",
   "id": "cd9868ff-cbf7-4a3e-b232-913209326cc7",
   "metadata": {},
   "source": [
    "+ \n",
    "-\n",
    "*\n",
    "/\n",
    "**\n",
    "%\n",
    "//"
   ]
  },
  {
   "cell_type": "markdown",
   "id": "a6844f3c-b0be-4f00-af7e-48ab136d8637",
   "metadata": {},
   "source": [
    "### Comparision Operators"
   ]
  },
  {
   "cell_type": "code",
   "execution_count": null,
   "id": "2f4b37da-4672-4ffd-89c7-ed968c9afef7",
   "metadata": {},
   "outputs": [],
   "source": [
    "==\n",
    ">=\n",
    "<=\n",
    ">\n",
    "<\n",
    "!="
   ]
  },
  {
   "cell_type": "markdown",
   "id": "4c2756fe-019a-45d5-9168-e8eb4ad5d77b",
   "metadata": {},
   "source": [
    "### Logical Operators"
   ]
  },
  {
   "cell_type": "code",
   "execution_count": null,
   "id": "0d776ec1-6a85-4dd1-af54-09f032bdf719",
   "metadata": {},
   "outputs": [],
   "source": [
    "and\n",
    "or\n",
    "not\n",
    "in\n",
    "is\n",
    "is not\n",
    "not in"
   ]
  },
  {
   "cell_type": "markdown",
   "id": "0e3fbe7f-bd9f-4aa6-8699-da62a4be0dbe",
   "metadata": {},
   "source": [
    "### Bitwise Operators"
   ]
  },
  {
   "cell_type": "code",
   "execution_count": null,
   "id": "1fa14028-67e9-4a0d-8db5-121ead039d7e",
   "metadata": {},
   "outputs": [],
   "source": [
    "+=\n",
    "-=\n",
    "*=\n",
    "/=\n",
    "%=\n",
    "//="
   ]
  },
  {
   "cell_type": "markdown",
   "id": "2043f09a-a96b-4f70-8055-d8ec188a6a3c",
   "metadata": {},
   "source": [
    "### Variables"
   ]
  },
  {
   "cell_type": "code",
   "execution_count": 6,
   "id": "06766604-b0ce-4177-b336-af6a94dda7b7",
   "metadata": {},
   "outputs": [],
   "source": [
    "x = 10\n",
    "y = 12"
   ]
  },
  {
   "cell_type": "code",
   "execution_count": 7,
   "id": "3dd6019b-f7c3-4185-a891-3b63b3dd3264",
   "metadata": {},
   "outputs": [
    {
     "ename": "SyntaxError",
     "evalue": "invalid decimal literal (4002435668.py, line 1)",
     "output_type": "error",
     "traceback": [
      "\u001b[1;36m  Cell \u001b[1;32mIn[7], line 1\u001b[1;36m\u001b[0m\n\u001b[1;33m    34x = 23\u001b[0m\n\u001b[1;37m     ^\u001b[0m\n\u001b[1;31mSyntaxError\u001b[0m\u001b[1;31m:\u001b[0m invalid decimal literal\n"
     ]
    }
   ],
   "source": [
    "34x = 23"
   ]
  },
  {
   "cell_type": "code",
   "execution_count": 8,
   "id": "366365ed-e766-41ed-9b84-d9f76895847b",
   "metadata": {},
   "outputs": [],
   "source": [
    "x34 = 34"
   ]
  },
  {
   "cell_type": "code",
   "execution_count": 9,
   "id": "0db2b35c-d50b-4061-ae73-686f07de1c0f",
   "metadata": {},
   "outputs": [
    {
     "ename": "SyntaxError",
     "evalue": "invalid syntax (4140631910.py, line 1)",
     "output_type": "error",
     "traceback": [
      "\u001b[1;36m  Cell \u001b[1;32mIn[9], line 1\u001b[1;36m\u001b[0m\n\u001b[1;33m    x& = 34\u001b[0m\n\u001b[1;37m       ^\u001b[0m\n\u001b[1;31mSyntaxError\u001b[0m\u001b[1;31m:\u001b[0m invalid syntax\n"
     ]
    }
   ],
   "source": [
    "x& = 34"
   ]
  },
  {
   "cell_type": "code",
   "execution_count": 10,
   "id": "f83d8c75-930a-42d3-95b1-19e3fc436a76",
   "metadata": {},
   "outputs": [
    {
     "ename": "SyntaxError",
     "evalue": "invalid syntax (1379468873.py, line 1)",
     "output_type": "error",
     "traceback": [
      "\u001b[1;36m  Cell \u001b[1;32mIn[10], line 1\u001b[1;36m\u001b[0m\n\u001b[1;33m    $ad = 34\u001b[0m\n\u001b[1;37m    ^\u001b[0m\n\u001b[1;31mSyntaxError\u001b[0m\u001b[1;31m:\u001b[0m invalid syntax\n"
     ]
    }
   ],
   "source": [
    "$ad = 34"
   ]
  },
  {
   "cell_type": "code",
   "execution_count": 11,
   "id": "f011dc14-769e-4505-bb0f-d62b02c7f6e9",
   "metadata": {},
   "outputs": [
    {
     "ename": "SyntaxError",
     "evalue": "invalid syntax (1637403566.py, line 1)",
     "output_type": "error",
     "traceback": [
      "\u001b[1;36m  Cell \u001b[1;32mIn[11], line 1\u001b[1;36m\u001b[0m\n\u001b[1;33m    first name = \"amit\"\u001b[0m\n\u001b[1;37m          ^\u001b[0m\n\u001b[1;31mSyntaxError\u001b[0m\u001b[1;31m:\u001b[0m invalid syntax\n"
     ]
    }
   ],
   "source": [
    "first name = \"amit\""
   ]
  },
  {
   "cell_type": "code",
   "execution_count": 12,
   "id": "0fa353fc-cf05-4d54-ba47-30a747c1ea42",
   "metadata": {},
   "outputs": [],
   "source": [
    "first_name = \"amit\""
   ]
  },
  {
   "cell_type": "code",
   "execution_count": 13,
   "id": "756513a1-acf2-4eb1-8db3-6b21d4605a00",
   "metadata": {},
   "outputs": [],
   "source": [
    "_21 = 34"
   ]
  },
  {
   "cell_type": "code",
   "execution_count": 14,
   "id": "20926367-9219-45ea-8868-a94837fd20f3",
   "metadata": {},
   "outputs": [],
   "source": [
    "_ = 3"
   ]
  },
  {
   "cell_type": "code",
   "execution_count": 15,
   "id": "3ff418fb-1af5-4d74-ac28-d63ca2f643ae",
   "metadata": {},
   "outputs": [
    {
     "data": {
      "text/plain": [
       "3"
      ]
     },
     "execution_count": 15,
     "metadata": {},
     "output_type": "execute_result"
    }
   ],
   "source": [
    "_"
   ]
  },
  {
   "cell_type": "code",
   "execution_count": 16,
   "id": "5a92aff5-678c-480d-8bc4-6b51de602a8f",
   "metadata": {},
   "outputs": [],
   "source": [
    "a,b,c = 20,30,40"
   ]
  },
  {
   "cell_type": "code",
   "execution_count": 17,
   "id": "3ff5a4f5-d9f2-4d04-821d-ac1e7d0b55db",
   "metadata": {},
   "outputs": [
    {
     "data": {
      "text/plain": [
       "20"
      ]
     },
     "execution_count": 17,
     "metadata": {},
     "output_type": "execute_result"
    }
   ],
   "source": [
    "a"
   ]
  },
  {
   "cell_type": "code",
   "execution_count": 18,
   "id": "d9d5d6cd-2e8e-4399-89a9-8458d70d3c9b",
   "metadata": {},
   "outputs": [
    {
     "data": {
      "text/plain": [
       "30"
      ]
     },
     "execution_count": 18,
     "metadata": {},
     "output_type": "execute_result"
    }
   ],
   "source": [
    "b"
   ]
  },
  {
   "cell_type": "code",
   "execution_count": 19,
   "id": "11d0070a-da4b-474b-abeb-2f218b4dc4a5",
   "metadata": {},
   "outputs": [
    {
     "data": {
      "text/plain": [
       "40"
      ]
     },
     "execution_count": 19,
     "metadata": {},
     "output_type": "execute_result"
    }
   ],
   "source": [
    "c"
   ]
  },
  {
   "cell_type": "code",
   "execution_count": 20,
   "id": "429ba053-d454-455b-b1f0-6d834a3cfd3f",
   "metadata": {},
   "outputs": [
    {
     "data": {
      "text/plain": [
       "10"
      ]
     },
     "execution_count": 20,
     "metadata": {},
     "output_type": "execute_result"
    }
   ],
   "source": [
    "x"
   ]
  },
  {
   "cell_type": "code",
   "execution_count": 21,
   "id": "cdc1b909-70ed-405f-a6c9-010c1ea840bf",
   "metadata": {},
   "outputs": [
    {
     "data": {
      "text/plain": [
       "12"
      ]
     },
     "execution_count": 21,
     "metadata": {},
     "output_type": "execute_result"
    }
   ],
   "source": [
    "y"
   ]
  },
  {
   "cell_type": "code",
   "execution_count": 22,
   "id": "4ba9b37d-90b9-4669-b9e2-09be54afe245",
   "metadata": {},
   "outputs": [
    {
     "data": {
      "text/plain": [
       "50"
      ]
     },
     "execution_count": 22,
     "metadata": {},
     "output_type": "execute_result"
    }
   ],
   "source": [
    "a+b"
   ]
  },
  {
   "cell_type": "code",
   "execution_count": 25,
   "id": "b9d0715b-c997-407d-98df-94abef17ba3a",
   "metadata": {},
   "outputs": [],
   "source": [
    "d= a**3"
   ]
  },
  {
   "cell_type": "code",
   "execution_count": 27,
   "id": "45e53d33-74a1-4689-a16c-6469a0fc1de5",
   "metadata": {},
   "outputs": [
    {
     "data": {
      "text/plain": [
       "200.0"
      ]
     },
     "execution_count": 27,
     "metadata": {},
     "output_type": "execute_result"
    }
   ],
   "source": [
    "d/c"
   ]
  },
  {
   "cell_type": "code",
   "execution_count": 30,
   "id": "05308b37-2994-406a-8f30-c8eb439931ed",
   "metadata": {},
   "outputs": [
    {
     "data": {
      "text/plain": [
       "69"
      ]
     },
     "execution_count": 30,
     "metadata": {},
     "output_type": "execute_result"
    }
   ],
   "source": [
    "d%77"
   ]
  },
  {
   "cell_type": "code",
   "execution_count": 31,
   "id": "055b6b6b-f3fd-47c8-8099-459aee3d14fa",
   "metadata": {},
   "outputs": [
    {
     "data": {
      "text/plain": [
       "103"
      ]
     },
     "execution_count": 31,
     "metadata": {},
     "output_type": "execute_result"
    }
   ],
   "source": [
    "d//77"
   ]
  },
  {
   "cell_type": "code",
   "execution_count": 32,
   "id": "4e7da044-b7dd-4e37-b08d-75d0eab1662b",
   "metadata": {},
   "outputs": [
    {
     "data": {
      "text/plain": [
       "20"
      ]
     },
     "execution_count": 32,
     "metadata": {},
     "output_type": "execute_result"
    }
   ],
   "source": [
    "a"
   ]
  },
  {
   "cell_type": "code",
   "execution_count": 33,
   "id": "b73b269e-3229-4bf5-bacc-b16ef5ab4461",
   "metadata": {},
   "outputs": [
    {
     "data": {
      "text/plain": [
       "30"
      ]
     },
     "execution_count": 33,
     "metadata": {},
     "output_type": "execute_result"
    }
   ],
   "source": [
    "b "
   ]
  },
  {
   "cell_type": "code",
   "execution_count": 34,
   "id": "9acc4523-529d-4a99-9c76-5d534b7a104b",
   "metadata": {},
   "outputs": [
    {
     "data": {
      "text/plain": [
       "False"
      ]
     },
     "execution_count": 34,
     "metadata": {},
     "output_type": "execute_result"
    }
   ],
   "source": [
    "a == b"
   ]
  },
  {
   "cell_type": "code",
   "execution_count": 35,
   "id": "8f7a1241-6962-4356-9c13-71d6b4887f0b",
   "metadata": {},
   "outputs": [
    {
     "data": {
      "text/plain": [
       "True"
      ]
     },
     "execution_count": 35,
     "metadata": {},
     "output_type": "execute_result"
    }
   ],
   "source": [
    "a < b"
   ]
  },
  {
   "cell_type": "code",
   "execution_count": 36,
   "id": "bf7e2a25-1f05-44d8-b274-55cd67762cbb",
   "metadata": {},
   "outputs": [
    {
     "data": {
      "text/plain": [
       "False"
      ]
     },
     "execution_count": 36,
     "metadata": {},
     "output_type": "execute_result"
    }
   ],
   "source": [
    "a > b"
   ]
  },
  {
   "cell_type": "code",
   "execution_count": 37,
   "id": "a16711f4-442e-421b-97a6-fcd95f686b61",
   "metadata": {},
   "outputs": [
    {
     "data": {
      "text/plain": [
       "20"
      ]
     },
     "execution_count": 37,
     "metadata": {},
     "output_type": "execute_result"
    }
   ],
   "source": [
    "a"
   ]
  },
  {
   "cell_type": "code",
   "execution_count": 58,
   "id": "2357f551-9f7b-49d0-8b09-a538440266ac",
   "metadata": {},
   "outputs": [],
   "source": [
    "a = a+1"
   ]
  },
  {
   "cell_type": "code",
   "execution_count": 59,
   "id": "396ac88e-d6c6-4194-8264-d5b1b05e2e6e",
   "metadata": {},
   "outputs": [
    {
     "data": {
      "text/plain": [
       "22"
      ]
     },
     "execution_count": 59,
     "metadata": {},
     "output_type": "execute_result"
    }
   ],
   "source": [
    "a"
   ]
  },
  {
   "cell_type": "code",
   "execution_count": 60,
   "id": "f644f715-b68d-47df-9bb6-7ab60ad5ac0b",
   "metadata": {},
   "outputs": [],
   "source": [
    "a-=2"
   ]
  },
  {
   "cell_type": "code",
   "execution_count": 61,
   "id": "72e8fe89-0591-4275-87ac-8eacc5e20c27",
   "metadata": {},
   "outputs": [
    {
     "data": {
      "text/plain": [
       "20"
      ]
     },
     "execution_count": 61,
     "metadata": {},
     "output_type": "execute_result"
    }
   ],
   "source": [
    "a"
   ]
  },
  {
   "cell_type": "code",
   "execution_count": 62,
   "id": "804e7145-f1b5-44dd-bce9-4fcfb1792716",
   "metadata": {},
   "outputs": [
    {
     "data": {
      "text/plain": [
       "False"
      ]
     },
     "execution_count": 62,
     "metadata": {},
     "output_type": "execute_result"
    }
   ],
   "source": [
    "a is b"
   ]
  },
  {
   "cell_type": "code",
   "execution_count": 64,
   "id": "2cae0230-c7f1-4924-be6a-a5c3be009b0d",
   "metadata": {},
   "outputs": [
    {
     "data": {
      "text/plain": [
       "True"
      ]
     },
     "execution_count": 64,
     "metadata": {},
     "output_type": "execute_result"
    }
   ],
   "source": [
    "a is not b"
   ]
  },
  {
   "cell_type": "code",
   "execution_count": 65,
   "id": "1a80d0c9-00df-40ff-8d23-19102f2f4468",
   "metadata": {},
   "outputs": [
    {
     "ename": "TypeError",
     "evalue": "argument of type 'int' is not iterable",
     "output_type": "error",
     "traceback": [
      "\u001b[1;31m---------------------------------------------------------------------------\u001b[0m",
      "\u001b[1;31mTypeError\u001b[0m                                 Traceback (most recent call last)",
      "Cell \u001b[1;32mIn[65], line 1\u001b[0m\n\u001b[1;32m----> 1\u001b[0m a \u001b[38;5;129;01min\u001b[39;00m b\n",
      "\u001b[1;31mTypeError\u001b[0m: argument of type 'int' is not iterable"
     ]
    }
   ],
   "source": [
    "a in b"
   ]
  },
  {
   "cell_type": "markdown",
   "id": "7cc0c4ef-5814-4352-beb3-f0dde857446d",
   "metadata": {},
   "source": [
    "### Iterable"
   ]
  },
  {
   "cell_type": "code",
   "execution_count": null,
   "id": "74e3e73d-a017-466a-9ac9-ee4c00d94272",
   "metadata": {},
   "outputs": [],
   "source": [
    "str\n",
    "list\n",
    "tuple\n",
    "set\n",
    "dict"
   ]
  },
  {
   "cell_type": "markdown",
   "id": "8e982d27-2a6d-4869-9e34-6aeecd29c2ea",
   "metadata": {},
   "source": [
    "### non-interable"
   ]
  },
  {
   "cell_type": "code",
   "execution_count": null,
   "id": "43b05275-198b-4f4d-b097-d0ef4b9793bb",
   "metadata": {},
   "outputs": [],
   "source": [
    "bool\n",
    "int\n",
    "float\n",
    "complex"
   ]
  },
  {
   "cell_type": "markdown",
   "id": "124f9751-4bee-4948-90b0-ad4e1d6d7cae",
   "metadata": {},
   "source": [
    "### Typecasting"
   ]
  },
  {
   "cell_type": "code",
   "execution_count": 69,
   "id": "340b2bf7-6ed2-4aab-9f15-fd65bfa5b587",
   "metadata": {},
   "outputs": [],
   "source": [
    "list = [2,3,4,5,5]"
   ]
  },
  {
   "cell_type": "code",
   "execution_count": 71,
   "id": "a5c1bcce-78bf-457f-b5bd-7003fba91bad",
   "metadata": {},
   "outputs": [],
   "source": [
    "t =tuple(list)"
   ]
  },
  {
   "cell_type": "code",
   "execution_count": 72,
   "id": "211d75ed-c069-4c51-9ff2-a58b764eb04b",
   "metadata": {},
   "outputs": [
    {
     "data": {
      "text/plain": [
       "(2, 3, 4, 5, 5)"
      ]
     },
     "execution_count": 72,
     "metadata": {},
     "output_type": "execute_result"
    }
   ],
   "source": [
    "t"
   ]
  },
  {
   "cell_type": "code",
   "execution_count": 73,
   "id": "7c5f909f-5de0-46b4-b012-1721ce00220a",
   "metadata": {},
   "outputs": [
    {
     "data": {
      "text/plain": [
       "{2, 3, 4, 5}"
      ]
     },
     "execution_count": 73,
     "metadata": {},
     "output_type": "execute_result"
    }
   ],
   "source": [
    "set(t)"
   ]
  },
  {
   "cell_type": "code",
   "execution_count": 75,
   "id": "040b087a-0a11-400e-9b0a-e2ef2a80ca79",
   "metadata": {},
   "outputs": [
    {
     "ename": "TypeError",
     "evalue": "'tuple' object is not callable",
     "output_type": "error",
     "traceback": [
      "\u001b[1;31m---------------------------------------------------------------------------\u001b[0m",
      "\u001b[1;31mTypeError\u001b[0m                                 Traceback (most recent call last)",
      "Cell \u001b[1;32mIn[75], line 1\u001b[0m\n\u001b[1;32m----> 1\u001b[0m \u001b[38;5;28mstr\u001b[39m(\u001b[38;5;28mlist\u001b[39m)\n",
      "\u001b[1;31mTypeError\u001b[0m: 'tuple' object is not callable"
     ]
    }
   ],
   "source": [
    "str(list)"
   ]
  },
  {
   "cell_type": "code",
   "execution_count": 76,
   "id": "2d9ea7da-9974-4c32-824f-c96fb8fc7cc6",
   "metadata": {},
   "outputs": [
    {
     "data": {
      "text/plain": [
       "'[3,4,5,6,]'"
      ]
     },
     "execution_count": 76,
     "metadata": {},
     "output_type": "execute_result"
    }
   ],
   "source": [
    "\"[3,4,5,6,]\""
   ]
  },
  {
   "cell_type": "code",
   "execution_count": 77,
   "id": "bf034181-19dc-4832-84d7-938612a5b8d5",
   "metadata": {},
   "outputs": [
    {
     "ename": "TypeError",
     "evalue": "'tuple' object is not callable",
     "output_type": "error",
     "traceback": [
      "\u001b[1;31m---------------------------------------------------------------------------\u001b[0m",
      "\u001b[1;31mTypeError\u001b[0m                                 Traceback (most recent call last)",
      "Cell \u001b[1;32mIn[77], line 1\u001b[0m\n\u001b[1;32m----> 1\u001b[0m \u001b[38;5;28mstr\u001b[39m(\u001b[38;5;241m34532\u001b[39m)\n",
      "\u001b[1;31mTypeError\u001b[0m: 'tuple' object is not callable"
     ]
    }
   ],
   "source": [
    "str(34532)"
   ]
  },
  {
   "cell_type": "code",
   "execution_count": 78,
   "id": "a1d4c0aa-31ed-455f-8bc5-6c57aa10531d",
   "metadata": {},
   "outputs": [
    {
     "data": {
      "text/plain": [
       "'345'"
      ]
     },
     "execution_count": 78,
     "metadata": {},
     "output_type": "execute_result"
    }
   ],
   "source": [
    "\"345\""
   ]
  },
  {
   "cell_type": "code",
   "execution_count": null,
   "id": "b9cbb9e0-6564-4e19-89bd-45ed1032e902",
   "metadata": {},
   "outputs": [],
   "source": []
  }
 ],
 "metadata": {
  "kernelspec": {
   "display_name": "Python 3 (ipykernel)",
   "language": "python",
   "name": "python3"
  },
  "language_info": {
   "codemirror_mode": {
    "name": "ipython",
    "version": 3
   },
   "file_extension": ".py",
   "mimetype": "text/x-python",
   "name": "python",
   "nbconvert_exporter": "python",
   "pygments_lexer": "ipython3",
   "version": "3.11.7"
  }
 },
 "nbformat": 4,
 "nbformat_minor": 5
}
